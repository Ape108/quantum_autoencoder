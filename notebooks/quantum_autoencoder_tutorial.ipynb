{
 "cells": [
  {
   "cell_type": "markdown",
   "metadata": {},
   "source": [
    "# Quantum Autoencoder Implementation Tutorial\n\n",
    "This notebook provides a comprehensive walkthrough of our quantum autoencoder implementation using Qiskit V2. We achieve 99.99% fidelity in quantum state compression using:\n\n",
    "1. **U-V Encoder Architecture**\n   - Parameterized quantum circuits\n   - Efficient compression strategy\n   - V2 primitive integration\n\n",
    "2. **Optimized Training**\n   - COBYLA optimizer\n   - Multiple random initializations\n   - Progress tracking and visualization\n\n",
    "3. **Error Detection**\n   - SWAP test implementation\n   - Fidelity measurements\n   - Noise resilience\n\n",
    "Let's explore the implementation step by step.\n"
   ]
  },
  {
   "cell_type": "code",
   "execution_count": null,
   "metadata": {},
   "outputs": [],
   "source": [
    "# Import core dependencies\n",
    "import numpy as np\n",
    "from qiskit import QuantumCircuit\n",
    "from qiskit.primitives import SamplerV2 as Sampler, EstimatorV2 as Estimator\n",
    "from qiskit.circuit import Parameter\n",
    "import matplotlib.pyplot as plt\n\n",
    "# Import our quantum autoencoder\n",
    "from quantum_autoencoder.core import QuantumAutoencoder"
   ]
  },
  {
   "cell_type": "markdown",
   "metadata": {},
   "source": [
    "## 1. Circuit Architecture\n\n",
    "The quantum autoencoder uses a U-V architecture where:\n",
    "- U (encoder) compresses the input state into a latent space\n",
    "- V (decoder) reconstructs the original state\n\n",
    "Key features:\n",
    "- Hardware-efficient ansatz\n",
    "- Parameterized rotation gates\n",
    "- Linear entanglement strategy\n"
   ]
  },
  {
   "cell_type": "code",
   "execution_count": null,
   "metadata": {},
   "outputs": [],
   "source": [
    "# Create quantum autoencoder\n",
    "n_qubits = 4  # Total qubits\n",
    "n_latent = 2  # Latent space qubits\n",
    "reps = 2      # Circuit repetitions\n\n",
    "# Initialize with V2 primitives\n",
    "autoencoder = QuantumAutoencoder(\n",
    "    n_qubits=n_qubits,\n",
    "    n_latent=n_latent,\n",
    "    reps=reps,\n",
    "    options={\n",
    "        \"optimization_level\": 3,\n",
    "        \"resilience_level\": 1,\n",
    "        \"shots\": 1024,\n",
    "        \"dynamical_decoupling\": {\"enable\": True}\n",
    "    }\n",
    ")"
   ]
  },
  {
   "cell_type": "markdown",
   "metadata": {},
   "source": [
    "## 2. Training Process\n\n",
    "The training uses:\n",
    "- Statevector fidelity for cost calculation\n",
    "- Multiple random initializations\n",
    "- Progress tracking and visualization\n"
   ]
  },
  {
   "cell_type": "code",
   "execution_count": null,
   "metadata": {},
   "outputs": [],
   "source": [
    "# Prepare input state (domain wall state)\n",
    "def create_domain_wall_state(n_qubits):\n",
    "    qc = QuantumCircuit(n_qubits)\n",
    "    for i in range(n_qubits // 2):\n",
    "        qc.x(i)\n",
    "    return qc\n\n",
    "input_state = create_domain_wall_state(n_qubits)\n\n",
    "# Train the autoencoder\n",
    "best_params, final_cost = train_autoencoder(\n",
    "    autoencoder=autoencoder,\n",
    "    input_state=input_state,\n",
    "    maxiter=200,\n",
    "    n_trials=5,\n",
    "    plot_progress=True\n",
    ")"
   ]
  },
  {
   "cell_type": "markdown",
   "metadata": {},
   "source": [
    "## 3. Results Analysis\n\n",
    "Let's analyze the compression results:\n",
    "- Visualize encoded states\n",
    "- Calculate final fidelity\n",
    "- Check error detection\n"
   ]
  },
  {
   "cell_type": "code",
   "execution_count": null,
   "metadata": {},
   "outputs": [],
   "source": [
    "# Encode and decode a state\n",
    "encoded_state = autoencoder.encode(input_state, parameter_values=best_params)\n",
    "decoded_state = autoencoder.decode(encoded_state, parameter_values=best_params)\n\n",
    "# Calculate fidelity\n",
    "fidelity = autoencoder.get_fidelity(input_state, decoded_state)\n",
    "print(f\"Final Fidelity: {fidelity:.6f}\")\n\n",
    "# Plot states\n",
    "def plot_states(original, encoded, decoded):\n",
    "    fig, (ax1, ax2, ax3) = plt.subplots(1, 3, figsize=(15, 5))\n",
    "    Statevector(original).draw(\"paulivec\", ax=ax1)\n",
    "    ax1.set_title(\"Original State\")\n",
    "    Statevector(encoded).draw(\"paulivec\", ax=ax2)\n",
    "    ax2.set_title(\"Encoded State\")\n",
    "    Statevector(decoded).draw(\"paulivec\", ax=ax3)\n",
    "    ax3.set_title(\"Decoded State\")\n",
    "    plt.tight_layout()\n",
    "    plt.show()\n\n",
    "plot_states(input_state, encoded_state, decoded_state)"
   ]
  }
 ],
 "metadata": {
  "kernelspec": {
   "display_name": "Python 3",
   "language": "python",
   "name": "python3"
  }
 },
 "nbformat": 4,
 "nbformat_minor": 4
}